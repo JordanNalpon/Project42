{
 "cells": [
  {
   "cell_type": "markdown",
   "id": "automated-center",
   "metadata": {},
   "source": [
    "# Notebook1 - Convert PDF"
   ]
  },
  {
   "cell_type": "markdown",
   "id": "periodic-variable",
   "metadata": {},
   "source": [
    "### Library And Installation"
   ]
  },
  {
   "cell_type": "code",
   "execution_count": 1,
   "id": "removable-cylinder",
   "metadata": {},
   "outputs": [
    {
     "name": "stdout",
     "output_type": "stream",
     "text": [
      "Requirement already satisfied: tika in c:\\users\\jdn\\anaconda3\\lib\\site-packages (1.24)\n",
      "Requirement already satisfied: requests in c:\\users\\jdn\\anaconda3\\lib\\site-packages (from tika) (2.25.1)\n",
      "Requirement already satisfied: setuptools in c:\\users\\jdn\\anaconda3\\lib\\site-packages (from tika) (52.0.0.post20210125)\n",
      "Requirement already satisfied: idna<3,>=2.5 in c:\\users\\jdn\\anaconda3\\lib\\site-packages (from requests->tika) (2.10)\n",
      "Requirement already satisfied: certifi>=2017.4.17 in c:\\users\\jdn\\anaconda3\\lib\\site-packages (from requests->tika) (2020.12.5)\n",
      "Requirement already satisfied: chardet<5,>=3.0.2 in c:\\users\\jdn\\anaconda3\\lib\\site-packages (from requests->tika) (4.0.0)\n",
      "Requirement already satisfied: urllib3<1.27,>=1.21.1 in c:\\users\\jdn\\anaconda3\\lib\\site-packages (from requests->tika) (1.26.3)\n",
      "Note: you may need to restart the kernel to use updated packages.\n"
     ]
    },
    {
     "name": "stderr",
     "output_type": "stream",
     "text": [
      "WARNING: Error parsing requirements for googleapis-common-protos: [Errno 2] No such file or directory: 'c:\\\\users\\\\jdn\\\\anaconda3\\\\lib\\\\site-packages\\\\googleapis_common_protos-1.52.0.dist-info\\\\METADATA'\n"
     ]
    }
   ],
   "source": [
    "#pip install tika\n",
    "#pip install stop-words"
   ]
  },
  {
   "cell_type": "code",
   "execution_count": 1,
   "id": "strong-entrepreneur",
   "metadata": {},
   "outputs": [],
   "source": [
    "import re\n",
    "import pandas as pd\n",
    "from tika import parser #read pdf"
   ]
  },
  {
   "cell_type": "markdown",
   "id": "regulation-event",
   "metadata": {},
   "source": [
    "### Reading of PDF File"
   ]
  },
  {
   "cell_type": "code",
   "execution_count": 3,
   "id": "anticipated-outside",
   "metadata": {},
   "outputs": [],
   "source": [
    "raw = parser.from_file('../materials/the_hitchhikers_guide_to_the_galaxy_copy.pdf')"
   ]
  },
  {
   "cell_type": "markdown",
   "id": "competitive-northwest",
   "metadata": {},
   "source": [
    "### Convert To String and Cleaning"
   ]
  },
  {
   "cell_type": "code",
   "execution_count": 4,
   "id": "downtown-italian",
   "metadata": {},
   "outputs": [
    {
     "data": {
      "text/plain": [
       "dict"
      ]
     },
     "execution_count": 4,
     "metadata": {},
     "output_type": "execute_result"
    }
   ],
   "source": [
    "type(raw)"
   ]
  },
  {
   "cell_type": "code",
   "execution_count": 7,
   "id": "favorite-coffee",
   "metadata": {},
   "outputs": [],
   "source": [
    "#parser produces a dictionary file type, need to convert to string type\n",
    "content = str(raw['content'])"
   ]
  },
  {
   "cell_type": "code",
   "execution_count": 8,
   "id": "younger-building",
   "metadata": {},
   "outputs": [],
   "source": [
    "#lower case all the text to make it easier to clean\n",
    "content = content.lower()"
   ]
  },
  {
   "cell_type": "code",
   "execution_count": 9,
   "id": "periodic-saturn",
   "metadata": {},
   "outputs": [],
   "source": [
    "content = content.replace(\"\\n\",'')"
   ]
  },
  {
   "cell_type": "code",
   "execution_count": 11,
   "id": "latin-martial",
   "metadata": {},
   "outputs": [],
   "source": [
    "#get rid of the titles on the top of every page\n",
    "content = re.sub(\"(t\\sh\\se\\s\\sh\\si\\st\\sc\\sh\\sh\\si\\sk\\se\\sr\\s\\\\'\\ss\\s\\sg\\su\\si\\sd\\se\\s\\st\\so\\s\\st\\sh\\se\\s\\sg\\sa\\sl\\sa\\sx\\sy\\s\\s\\/\\s\\s\\d)\",\"\",content)\n",
    "content = re.sub(\"(\\d\\s\\s\\/\\s\\sd\\so\\su\\sg\\sl\\sa\\ss\\s\\sa\\sd\\sa\\sm)\",\"\",content)\n"
   ]
  },
  {
   "cell_type": "markdown",
   "id": "completed-doctrine",
   "metadata": {},
   "source": [
    "### Break Book Down to a List"
   ]
  },
  {
   "cell_type": "code",
   "execution_count": 13,
   "id": "computational-logistics",
   "metadata": {},
   "outputs": [],
   "source": [
    "wordlist = content.split()"
   ]
  },
  {
   "cell_type": "code",
   "execution_count": 14,
   "id": "regulated-audio",
   "metadata": {},
   "outputs": [],
   "source": [
    "wordfreq = []"
   ]
  },
  {
   "cell_type": "code",
   "execution_count": 15,
   "id": "apart-surface",
   "metadata": {},
   "outputs": [],
   "source": [
    "for w in wordlist:\n",
    "    wordfreq.append(wordlist.count(w))"
   ]
  },
  {
   "cell_type": "markdown",
   "id": "thick-event",
   "metadata": {},
   "source": [
    "### Stop Words"
   ]
  },
  {
   "cell_type": "code",
   "execution_count": 17,
   "id": "infectious-hollywood",
   "metadata": {},
   "outputs": [],
   "source": [
    "from stop_words import get_stop_words"
   ]
  },
  {
   "cell_type": "code",
   "execution_count": 18,
   "id": "novel-chaos",
   "metadata": {},
   "outputs": [],
   "source": [
    "wordlist = [word for word in wordlist if word not in get_stop_words('english')]"
   ]
  },
  {
   "cell_type": "markdown",
   "id": "hired-perry",
   "metadata": {},
   "source": [
    "### Word Pairs"
   ]
  },
  {
   "cell_type": "code",
   "execution_count": 19,
   "id": "permanent-arbitration",
   "metadata": {},
   "outputs": [],
   "source": [
    "# Given a list of words, return a dictionary of\n",
    "# word-frequency pairs.\n",
    "\n",
    "def wordListToFreqDict(wordlist):\n",
    "    wordfreq = [wordlist.count(p) for p in wordlist]\n",
    "    return dict(list(zip(wordlist,wordfreq)))"
   ]
  },
  {
   "cell_type": "code",
   "execution_count": 20,
   "id": "endangered-thing",
   "metadata": {},
   "outputs": [],
   "source": [
    "# Sort a dictionary of word-frequency pairs in\n",
    "# order of descending frequency.\n",
    "\n",
    "def sortFreqDict(freqdict):\n",
    "    aux = [(freqdict[key], key) for key in freqdict]\n",
    "    aux.sort()\n",
    "    aux.reverse()\n",
    "    return aux"
   ]
  },
  {
   "cell_type": "code",
   "execution_count": 21,
   "id": "junior-google",
   "metadata": {},
   "outputs": [],
   "source": [
    "wordlistfreq = wordListToFreqDict(wordlist)"
   ]
  },
  {
   "cell_type": "code",
   "execution_count": 22,
   "id": "public-tablet",
   "metadata": {},
   "outputs": [
    {
     "data": {
      "text/plain": [
       "dict"
      ]
     },
     "execution_count": 22,
     "metadata": {},
     "output_type": "execute_result"
    }
   ],
   "source": [
    "type(wordlistfreq)"
   ]
  },
  {
   "cell_type": "markdown",
   "id": "going-romania",
   "metadata": {},
   "source": [
    "### Create Dataframe"
   ]
  },
  {
   "cell_type": "code",
   "execution_count": 23,
   "id": "bacterial-toronto",
   "metadata": {},
   "outputs": [],
   "source": [
    "df = pd.DataFrame.from_dict(wordlistfreq,orient= 'index')"
   ]
  },
  {
   "cell_type": "code",
   "execution_count": 24,
   "id": "searching-cover",
   "metadata": {},
   "outputs": [
    {
     "data": {
      "text/html": [
       "<div>\n",
       "<style scoped>\n",
       "    .dataframe tbody tr th:only-of-type {\n",
       "        vertical-align: middle;\n",
       "    }\n",
       "\n",
       "    .dataframe tbody tr th {\n",
       "        vertical-align: top;\n",
       "    }\n",
       "\n",
       "    .dataframe thead th {\n",
       "        text-align: right;\n",
       "    }\n",
       "</style>\n",
       "<table border=\"1\" class=\"dataframe\">\n",
       "  <thead>\n",
       "    <tr style=\"text-align: right;\">\n",
       "      <th></th>\n",
       "      <th>0</th>\n",
       "    </tr>\n",
       "  </thead>\n",
       "  <tbody>\n",
       "    <tr>\n",
       "      <th>hitchhiker's</th>\n",
       "      <td>3</td>\n",
       "    </tr>\n",
       "    <tr>\n",
       "      <th>guide</th>\n",
       "      <td>25</td>\n",
       "    </tr>\n",
       "    <tr>\n",
       "      <th>galaxythe</th>\n",
       "      <td>1</td>\n",
       "    </tr>\n",
       "    <tr>\n",
       "      <th>galaxy</th>\n",
       "      <td>42</td>\n",
       "    </tr>\n",
       "    <tr>\n",
       "      <th>b</th>\n",
       "      <td>6</td>\n",
       "    </tr>\n",
       "    <tr>\n",
       "      <th>...</th>\n",
       "      <td>...</td>\n",
       "    </tr>\n",
       "    <tr>\n",
       "      <th>ix,</th>\n",
       "      <td>1</td>\n",
       "    </tr>\n",
       "    <tr>\n",
       "      <th>language</th>\n",
       "      <td>1</td>\n",
       "    </tr>\n",
       "    <tr>\n",
       "      <th>translates</th>\n",
       "      <td>1</td>\n",
       "    </tr>\n",
       "    <tr>\n",
       "      <th>\"boy</th>\n",
       "      <td>1</td>\n",
       "    </tr>\n",
       "    <tr>\n",
       "      <th>seven\".</th>\n",
       "      <td>1</td>\n",
       "    </tr>\n",
       "  </tbody>\n",
       "</table>\n",
       "<p>8918 rows × 1 columns</p>\n",
       "</div>"
      ],
      "text/plain": [
       "               0\n",
       "hitchhiker's   3\n",
       "guide         25\n",
       "galaxythe      1\n",
       "galaxy        42\n",
       "b              6\n",
       "...           ..\n",
       "ix,            1\n",
       "language       1\n",
       "translates     1\n",
       "\"boy           1\n",
       "seven\".        1\n",
       "\n",
       "[8918 rows x 1 columns]"
      ]
     },
     "execution_count": 24,
     "metadata": {},
     "output_type": "execute_result"
    }
   ],
   "source": [
    "df"
   ]
  },
  {
   "cell_type": "code",
   "execution_count": 25,
   "id": "associate-space",
   "metadata": {},
   "outputs": [],
   "source": [
    "df.to_csv('..\\export\\project42.csv')"
   ]
  }
 ],
 "metadata": {
  "kernelspec": {
   "display_name": "Python 3",
   "language": "python",
   "name": "python3"
  },
  "language_info": {
   "codemirror_mode": {
    "name": "ipython",
    "version": 3
   },
   "file_extension": ".py",
   "mimetype": "text/x-python",
   "name": "python",
   "nbconvert_exporter": "python",
   "pygments_lexer": "ipython3",
   "version": "3.8.3"
  }
 },
 "nbformat": 4,
 "nbformat_minor": 5
}
