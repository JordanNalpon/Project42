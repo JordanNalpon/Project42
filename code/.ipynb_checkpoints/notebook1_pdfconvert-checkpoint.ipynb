{
 "cells": [
  {
   "cell_type": "markdown",
   "id": "discrete-undergraduate",
   "metadata": {},
   "source": [
    "# Project 42 Notebook"
   ]
  },
  {
   "cell_type": "markdown",
   "id": "collaborative-genealogy",
   "metadata": {},
   "source": [
    "### Library And Installation"
   ]
  },
  {
   "cell_type": "code",
   "execution_count": null,
   "id": "responsible-provider",
   "metadata": {},
   "outputs": [],
   "source": [
    "#pip install tika\n",
    "#pip install stop-words"
   ]
  },
  {
   "cell_type": "code",
   "execution_count": 2,
   "id": "independent-security",
   "metadata": {},
   "outputs": [],
   "source": [
    "import re\n",
    "import pandas as pd\n",
    "from tika import parser #read pdf\n",
    "from stop_words import get_stop_words"
   ]
  },
  {
   "cell_type": "markdown",
   "id": "technical-worker",
   "metadata": {},
   "source": [
    "### Reading of PDF File"
   ]
  },
  {
   "cell_type": "code",
   "execution_count": 3,
   "id": "local-retail",
   "metadata": {},
   "outputs": [],
   "source": [
    "raw = parser.from_file('../materials/the_hitchhikers_guide_to_the_galaxy_copy.pdf')"
   ]
  },
  {
   "cell_type": "markdown",
   "id": "precious-shelter",
   "metadata": {},
   "source": [
    "### Convert To String and Cleaning"
   ]
  },
  {
   "cell_type": "code",
   "execution_count": 4,
   "id": "neither-commonwealth",
   "metadata": {},
   "outputs": [
    {
     "data": {
      "text/plain": [
       "dict"
      ]
     },
     "execution_count": 4,
     "metadata": {},
     "output_type": "execute_result"
    }
   ],
   "source": [
    "type(raw)"
   ]
  },
  {
   "cell_type": "code",
   "execution_count": 5,
   "id": "thorough-venture",
   "metadata": {},
   "outputs": [],
   "source": [
    "#parser produces a dictionary file type, need to convert to string type\n",
    "content = str(raw['content'])"
   ]
  },
  {
   "cell_type": "code",
   "execution_count": 6,
   "id": "grand-workshop",
   "metadata": {},
   "outputs": [],
   "source": [
    "#lower case all the text to make it easier to clean\n",
    "content = content.lower()"
   ]
  },
  {
   "cell_type": "code",
   "execution_count": 7,
   "id": "every-investigator",
   "metadata": {},
   "outputs": [],
   "source": [
    "content = content.replace(\"\\n\",'')"
   ]
  },
  {
   "cell_type": "code",
   "execution_count": 8,
   "id": "fourth-remark",
   "metadata": {},
   "outputs": [],
   "source": [
    "#get rid of the titles on the top of every page\n",
    "content = re.sub(\"(t\\sh\\se\\s\\sh\\si\\st\\sc\\sh\\sh\\si\\sk\\se\\sr\\s\\\\'\\ss\\s\\sg\\su\\si\\sd\\se\\s\\st\\so\\s\\st\\sh\\se\\s\\sg\\sa\\sl\\sa\\sx\\sy\\s\\s\\/\\s\\s\\d)\",\"\",content)\n",
    "content = re.sub(\"(\\d\\s\\s\\/\\s\\sd\\so\\su\\sg\\sl\\sa\\ss\\s\\sa\\sd\\sa\\sm)\",\"\",content)\n",
    "content = re.sub('[^A-Za-z\\s]+', '', content)"
   ]
  },
  {
   "cell_type": "markdown",
   "id": "ongoing-deadline",
   "metadata": {},
   "source": [
    "### Break Book Down to a List"
   ]
  },
  {
   "cell_type": "code",
   "execution_count": 9,
   "id": "funny-complex",
   "metadata": {},
   "outputs": [],
   "source": [
    "wordlist = content.split()"
   ]
  },
  {
   "cell_type": "code",
   "execution_count": 10,
   "id": "developmental-mother",
   "metadata": {},
   "outputs": [],
   "source": [
    "wordfreq = []"
   ]
  },
  {
   "cell_type": "code",
   "execution_count": 11,
   "id": "specific-license",
   "metadata": {},
   "outputs": [],
   "source": [
    "for w in wordlist:\n",
    "    wordfreq.append(wordlist.count(w))"
   ]
  },
  {
   "cell_type": "markdown",
   "id": "announced-niger",
   "metadata": {},
   "source": [
    "### Stop Words"
   ]
  },
  {
   "cell_type": "code",
   "execution_count": 12,
   "id": "purple-peripheral",
   "metadata": {},
   "outputs": [],
   "source": [
    "wordlist = [word for word in wordlist if word not in get_stop_words('english')]"
   ]
  },
  {
   "cell_type": "markdown",
   "id": "infinite-footwear",
   "metadata": {},
   "source": [
    "### Word Pairs"
   ]
  },
  {
   "cell_type": "code",
   "execution_count": 13,
   "id": "taken-mississippi",
   "metadata": {},
   "outputs": [],
   "source": [
    "# Given a list of words, return a dictionary of\n",
    "# word-frequency pairs.\n",
    "\n",
    "def wordListToFreqDict(wordlist):\n",
    "    wordfreq = [wordlist.count(p) for p in wordlist]\n",
    "    return dict(list(zip(wordlist,wordfreq)))"
   ]
  },
  {
   "cell_type": "code",
   "execution_count": 14,
   "id": "pleasant-accordance",
   "metadata": {},
   "outputs": [],
   "source": [
    "wordlistfreq = wordListToFreqDict(wordlist)"
   ]
  },
  {
   "cell_type": "markdown",
   "id": "cultural-group",
   "metadata": {},
   "source": [
    "### Create Dataframe"
   ]
  },
  {
   "cell_type": "code",
   "execution_count": 18,
   "id": "enabling-belle",
   "metadata": {},
   "outputs": [],
   "source": [
    "df = pd.DataFrame.from_dict(wordlistfreq,orient= 'index', columns = ['Count'])"
   ]
  },
  {
   "cell_type": "code",
   "execution_count": 19,
   "id": "monthly-party",
   "metadata": {},
   "outputs": [],
   "source": [
    "df = df.sort_values(by = \"Count\",ascending=False)"
   ]
  },
  {
   "cell_type": "code",
   "execution_count": 20,
   "id": "constant-pilot",
   "metadata": {},
   "outputs": [],
   "source": [
    "df.to_csv('..\\export\\project42.csv')"
   ]
  }
 ],
 "metadata": {
  "kernelspec": {
   "display_name": "Python 3",
   "language": "python",
   "name": "python3"
  },
  "language_info": {
   "codemirror_mode": {
    "name": "ipython",
    "version": 3
   },
   "file_extension": ".py",
   "mimetype": "text/x-python",
   "name": "python",
   "nbconvert_exporter": "python",
   "pygments_lexer": "ipython3",
   "version": "3.8.3"
  }
 },
 "nbformat": 4,
 "nbformat_minor": 5
}
