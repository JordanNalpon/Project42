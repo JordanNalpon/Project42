{
 "cells": [
  {
   "cell_type": "markdown",
   "id": "tribal-brisbane",
   "metadata": {},
   "source": [
    "# Notebook1 - Convert PDF"
   ]
  },
  {
   "cell_type": "markdown",
   "id": "minimal-carry",
   "metadata": {},
   "source": [
    "### Library And Installation"
   ]
  },
  {
   "cell_type": "code",
   "execution_count": 1,
   "id": "fluid-arthur",
   "metadata": {
    "collapsed": true,
    "jupyter": {
     "outputs_hidden": true
    }
   },
   "outputs": [
    {
     "name": "stdout",
     "output_type": "stream",
     "text": [
      "Collecting PyPDF2\n",
      "  Downloading PyPDF2-1.26.0.tar.gz (77 kB)\n",
      "Building wheels for collected packages: PyPDF2\n",
      "  Building wheel for PyPDF2 (setup.py): started\n",
      "  Building wheel for PyPDF2 (setup.py): finished with status 'done'\n",
      "  Created wheel for PyPDF2: filename=PyPDF2-1.26.0-py3-none-any.whl size=61085 sha256=eba73f2a4516f2e0c429dded87361af193c41303c7ac6f3d7d429aa3aa29ffd0\n",
      "  Stored in directory: c:\\users\\jdn\\appdata\\local\\pip\\cache\\wheels\\b1\\1a\\8f\\a4c34be976825a2f7948d0fa40907598d69834f8ab5889de11\n",
      "Successfully built PyPDF2\n",
      "Installing collected packages: PyPDF2\n",
      "Successfully installed PyPDF2-1.26.0\n",
      "Note: you may need to restart the kernel to use updated packages.\n"
     ]
    },
    {
     "name": "stderr",
     "output_type": "stream",
     "text": [
      "WARNING: Error parsing requirements for googleapis-common-protos: [Errno 2] No such file or directory: 'c:\\\\users\\\\jdn\\\\anaconda3\\\\lib\\\\site-packages\\\\googleapis_common_protos-1.52.0.dist-info\\\\METADATA'\n"
     ]
    }
   ],
   "source": [
    "pip install PyPDF2"
   ]
  },
  {
   "cell_type": "code",
   "execution_count": 25,
   "id": "united-marketplace",
   "metadata": {},
   "outputs": [
    {
     "name": "stdout",
     "output_type": "stream",
     "text": [
      "Collecting tika\n",
      "  Downloading tika-1.24.tar.gz (28 kB)\n",
      "Requirement already satisfied: setuptools in c:\\users\\jdn\\anaconda3\\lib\\site-packages (from tika) (52.0.0.post20210125)\n",
      "Requirement already satisfied: requests in c:\\users\\jdn\\anaconda3\\lib\\site-packages (from tika) (2.25.1)\n",
      "Requirement already satisfied: urllib3<1.27,>=1.21.1 in c:\\users\\jdn\\anaconda3\\lib\\site-packages (from requests->tika) (1.26.3)\n",
      "Requirement already satisfied: certifi>=2017.4.17 in c:\\users\\jdn\\anaconda3\\lib\\site-packages (from requests->tika) (2020.12.5)\n",
      "Requirement already satisfied: chardet<5,>=3.0.2 in c:\\users\\jdn\\anaconda3\\lib\\site-packages (from requests->tika) (4.0.0)\n",
      "Requirement already satisfied: idna<3,>=2.5 in c:\\users\\jdn\\anaconda3\\lib\\site-packages (from requests->tika) (2.10)\n",
      "Building wheels for collected packages: tika\n",
      "  Building wheel for tika (setup.py): started\n",
      "  Building wheel for tika (setup.py): finished with status 'done'\n",
      "  Created wheel for tika: filename=tika-1.24-py3-none-any.whl size=32884 sha256=a856dd0cc18a8d155609eb6bad6cdea2876c53595d068b023ef7378bf04b7bf6\n",
      "  Stored in directory: c:\\users\\jdn\\appdata\\local\\pip\\cache\\wheels\\75\\66\\8b\\d1acbac7d49f3d98ade76c51ae5d72cec1866131a3b1ad9f82\n",
      "Successfully built tika\n",
      "Installing collected packages: tika\n",
      "Successfully installed tika-1.24\n",
      "Note: you may need to restart the kernel to use updated packages.\n"
     ]
    },
    {
     "name": "stderr",
     "output_type": "stream",
     "text": [
      "WARNING: Error parsing requirements for googleapis-common-protos: [Errno 2] No such file or directory: 'c:\\\\users\\\\jdn\\\\anaconda3\\\\lib\\\\site-packages\\\\googleapis_common_protos-1.52.0.dist-info\\\\METADATA'\n"
     ]
    }
   ],
   "source": [
    "pip install tika"
   ]
  },
  {
   "cell_type": "code",
   "execution_count": 1,
   "id": "limited-helping",
   "metadata": {},
   "outputs": [],
   "source": [
    "import PyPDF2\n",
    "import re"
   ]
  },
  {
   "cell_type": "markdown",
   "id": "sensitive-repository",
   "metadata": {},
   "source": [
    "### Reading of PDF File"
   ]
  },
  {
   "cell_type": "code",
   "execution_count": 8,
   "id": "living-affairs",
   "metadata": {},
   "outputs": [],
   "source": [
    "pdfFileObj = open('../materials/the_hitchhikers_guide_to_the_galaxy_copy.pdf', 'rb')"
   ]
  },
  {
   "cell_type": "code",
   "execution_count": 9,
   "id": "unlikely-skill",
   "metadata": {},
   "outputs": [],
   "source": [
    "pdfReader = PyPDF2.PdfFileReader(pdfFileObj)"
   ]
  },
  {
   "cell_type": "code",
   "execution_count": 10,
   "id": "electric-balance",
   "metadata": {},
   "outputs": [
    {
     "data": {
      "text/plain": [
       "228"
      ]
     },
     "execution_count": 10,
     "metadata": {},
     "output_type": "execute_result"
    }
   ],
   "source": [
    "pdfReader.numPages"
   ]
  },
  {
   "cell_type": "code",
   "execution_count": 23,
   "id": "passive-nigeria",
   "metadata": {},
   "outputs": [
    {
     "data": {
      "text/plain": [
       "PyPDF2.pdf.PdfFileReader"
      ]
     },
     "execution_count": 23,
     "metadata": {},
     "output_type": "execute_result"
    }
   ],
   "source": [
    "type(pdfReader)"
   ]
  },
  {
   "cell_type": "code",
   "execution_count": 24,
   "id": "respected-western",
   "metadata": {},
   "outputs": [
    {
     "ename": "TypeError",
     "evalue": "getPage() missing 1 required positional argument: 'pageNumber'",
     "output_type": "error",
     "traceback": [
      "\u001b[1;31m---------------------------------------------------------------------------\u001b[0m",
      "\u001b[1;31mTypeError\u001b[0m                                 Traceback (most recent call last)",
      "\u001b[1;32m<ipython-input-24-c12fba814ca0>\u001b[0m in \u001b[0;36m<module>\u001b[1;34m\u001b[0m\n\u001b[1;32m----> 1\u001b[1;33m \u001b[0mpageobj\u001b[0m \u001b[1;33m=\u001b[0m \u001b[0mpdfReader\u001b[0m\u001b[1;33m.\u001b[0m\u001b[0mgetPage\u001b[0m\u001b[1;33m(\u001b[0m\u001b[1;33m)\u001b[0m\u001b[1;33m\u001b[0m\u001b[1;33m\u001b[0m\u001b[0m\n\u001b[0m",
      "\u001b[1;31mTypeError\u001b[0m: getPage() missing 1 required positional argument: 'pageNumber'"
     ]
    }
   ],
   "source": [
    "pageobj = pdfReader.getPage(4)"
   ]
  },
  {
   "cell_type": "code",
   "execution_count": 12,
   "id": "compressed-sociology",
   "metadata": {},
   "outputs": [
    {
     "data": {
      "text/plain": [
       "\"4 / \\nDOUGLAS ADAMS\\n Sadly, however, be\\nfore she could get to a phone to tell anyone\\n- about it, a terribly stupid catastrophe occurred, and the idea was \\nlost forever.\\n This is not her story.\\n But it is the story of that terrible stupid catastrophe and some of \\nits consequences.\\n It is also the story\\n of a book, a book called The Hitch Hiker's \\nGuide to the Galaxy \\n- not an Earth book, never published on \\nEarth, and until the terrible catastrophe occurred, never seen or \\nheard of by any Earthman.\\n Nevertheless, a wholly remarkable book.\\n in fact it was proba\\nbly the most remarkable book ever to come \\nout of the great publishing houses of Ursa Minor \\n- of which no \\nEarthman had ever heard either.\\n Not only is it a wholly remarkable book, it is also a highly\\n successful one\\n - more popular than the Celestial Home Care\\n Omnibus, better selling than Fifty More Things to do in Zero\\n Gravity, and more controversial than Oolon Colluphid's trilogy of \\nphilosophical blockbusters Where God Went Wrong, Some More \\nof God's Greatest Mistakes and Who is this God Person Anyway?\\n In many\\n of the more relaxed civilizations on the Outer Eastern \\nRim of the Galaxy, the Hitch Hiker's Guide has already\\n supplanted the great Encyclopedia Galactica as the standard\\n repository of all knowledge and wisdom, for though it has many \\nomissions and contains\\n much that is apocryphal, or at least wildly \\ninaccurate, it scores over the older, more pedestrian work in two \\nimportant respects.\\n \""
      ]
     },
     "execution_count": 12,
     "metadata": {},
     "output_type": "execute_result"
    }
   ],
   "source": [
    "pageobj.extractText()"
   ]
  },
  {
   "cell_type": "markdown",
   "id": "statistical-damage",
   "metadata": {},
   "source": [
    "### Regex"
   ]
  },
  {
   "cell_type": "code",
   "execution_count": 16,
   "id": "floral-employer",
   "metadata": {},
   "outputs": [],
   "source": [
    "list_pattern = ['n']"
   ]
  },
  {
   "cell_type": "code",
   "execution_count": 22,
   "id": "academic-retention",
   "metadata": {},
   "outputs": [
    {
     "data": {
      "text/plain": [
       "PyPDF2.pdf.PdfFileReader"
      ]
     },
     "execution_count": 22,
     "metadata": {},
     "output_type": "execute_result"
    }
   ],
   "source": [
    "type(pdfReader)"
   ]
  },
  {
   "cell_type": "code",
   "execution_count": 17,
   "id": "infectious-emperor",
   "metadata": {},
   "outputs": [
    {
     "ename": "TypeError",
     "evalue": "expected string or bytes-like object",
     "output_type": "error",
     "traceback": [
      "\u001b[1;31m---------------------------------------------------------------------------\u001b[0m",
      "\u001b[1;31mTypeError\u001b[0m                                 Traceback (most recent call last)",
      "\u001b[1;32m<ipython-input-17-26547b9a0a2a>\u001b[0m in \u001b[0;36m<module>\u001b[1;34m\u001b[0m\n\u001b[1;32m----> 1\u001b[1;33m \u001b[0mregex_pdf\u001b[0m \u001b[1;33m=\u001b[0m \u001b[0mre\u001b[0m\u001b[1;33m.\u001b[0m\u001b[0msub\u001b[0m\u001b[1;33m(\u001b[0m\u001b[0mpattern\u001b[0m\u001b[1;33m,\u001b[0m\u001b[1;34m''\u001b[0m\u001b[1;33m,\u001b[0m\u001b[0mpdfReader\u001b[0m\u001b[1;33m)\u001b[0m\u001b[1;33m\u001b[0m\u001b[1;33m\u001b[0m\u001b[0m\n\u001b[0m",
      "\u001b[1;32m~\\anaconda3\\lib\\re.py\u001b[0m in \u001b[0;36msub\u001b[1;34m(pattern, repl, string, count, flags)\u001b[0m\n\u001b[0;32m    208\u001b[0m     \u001b[0ma\u001b[0m \u001b[0mcallable\u001b[0m\u001b[1;33m,\u001b[0m \u001b[0mit\u001b[0m\u001b[0;31m'\u001b[0m\u001b[0ms\u001b[0m \u001b[0mpassed\u001b[0m \u001b[0mthe\u001b[0m \u001b[0mMatch\u001b[0m \u001b[0mobject\u001b[0m \u001b[1;32mand\u001b[0m \u001b[0mmust\u001b[0m \u001b[1;32mreturn\u001b[0m\u001b[1;33m\u001b[0m\u001b[1;33m\u001b[0m\u001b[0m\n\u001b[0;32m    209\u001b[0m     a replacement string to be used.\"\"\"\n\u001b[1;32m--> 210\u001b[1;33m     \u001b[1;32mreturn\u001b[0m \u001b[0m_compile\u001b[0m\u001b[1;33m(\u001b[0m\u001b[0mpattern\u001b[0m\u001b[1;33m,\u001b[0m \u001b[0mflags\u001b[0m\u001b[1;33m)\u001b[0m\u001b[1;33m.\u001b[0m\u001b[0msub\u001b[0m\u001b[1;33m(\u001b[0m\u001b[0mrepl\u001b[0m\u001b[1;33m,\u001b[0m \u001b[0mstring\u001b[0m\u001b[1;33m,\u001b[0m \u001b[0mcount\u001b[0m\u001b[1;33m)\u001b[0m\u001b[1;33m\u001b[0m\u001b[1;33m\u001b[0m\u001b[0m\n\u001b[0m\u001b[0;32m    211\u001b[0m \u001b[1;33m\u001b[0m\u001b[0m\n\u001b[0;32m    212\u001b[0m \u001b[1;32mdef\u001b[0m \u001b[0msubn\u001b[0m\u001b[1;33m(\u001b[0m\u001b[0mpattern\u001b[0m\u001b[1;33m,\u001b[0m \u001b[0mrepl\u001b[0m\u001b[1;33m,\u001b[0m \u001b[0mstring\u001b[0m\u001b[1;33m,\u001b[0m \u001b[0mcount\u001b[0m\u001b[1;33m=\u001b[0m\u001b[1;36m0\u001b[0m\u001b[1;33m,\u001b[0m \u001b[0mflags\u001b[0m\u001b[1;33m=\u001b[0m\u001b[1;36m0\u001b[0m\u001b[1;33m)\u001b[0m\u001b[1;33m:\u001b[0m\u001b[1;33m\u001b[0m\u001b[1;33m\u001b[0m\u001b[0m\n",
      "\u001b[1;31mTypeError\u001b[0m: expected string or bytes-like object"
     ]
    }
   ],
   "source": [
    "regex_pdf = re.sub(pattern,'',pdfReader)"
   ]
  }
 ],
 "metadata": {
  "kernelspec": {
   "display_name": "Python 3",
   "language": "python",
   "name": "python3"
  },
  "language_info": {
   "codemirror_mode": {
    "name": "ipython",
    "version": 3
   },
   "file_extension": ".py",
   "mimetype": "text/x-python",
   "name": "python",
   "nbconvert_exporter": "python",
   "pygments_lexer": "ipython3",
   "version": "3.8.3"
  }
 },
 "nbformat": 4,
 "nbformat_minor": 5
}
